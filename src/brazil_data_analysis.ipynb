{
 "cells": [
  {
   "cell_type": "markdown",
   "metadata": {
    "collapsed": false
   },
   "source": [
    "### 1. ライブラリ・関数の読み込み"
   ]
  },
  {
   "cell_type": "code",
   "execution_count": null,
   "metadata": {
    "vscode": {
     "languageId": "r"
    }
   },
   "outputs": [],
   "source": [
    "\n",
    "# install.packages(c(\"Matrix\", \"MatrixExtra\", \"recommenderlab\", \"cmfrec\", \"ggplot2\", \"reshape2\", \"viridis\", \"gridExtra\"))\n",
    "library(cmfrec)\n",
    "library(Matrix)\n",
    "library(MatrixExtra)\n",
    "library(recommenderlab)\n",
    "library(cmfrec)\n",
    "library(ggplot2)\n",
    "library(reshape2)\n",
    "library(viridis)\n",
    "library(gridExtra)\n",
    "source(\"cmf.R\")\n"
   ]
  },
  {
   "cell_type": "markdown",
   "metadata": {},
   "source": [
    "### 2. データの読み込み"
   ]
  },
  {
   "cell_type": "code",
   "execution_count": null,
   "metadata": {
    "vscode": {
     "languageId": "r"
    }
   },
   "outputs": [],
   "source": [
    "brvehins <- load_bravehins(cas_dataset_path = \"/Users/spectee/research/CASdatasets-master/data\")\n",
    "brvehins <- brvehins[grepl(\"Honda\", brvehins$VehModel), ]\n",
    "claim_types <- c(\"ClaimAmountRob\", \"ClaimAmountPartColl\", \"ClaimAmountTotColl\", \"ClaimAmountFire\", \"ClaimAmountOther\")\n",
    "brvehins[, \"ClaimTotal\"] <- rowSums(brvehins[, claim_types])\n",
    "str(brvehins)\n",
    "\n",
    "# write.csv(brvehins, file = \"data/brvehins_org.csv\", row.names = FALSE)\n"
   ]
  },
  {
   "cell_type": "markdown",
   "metadata": {},
   "source": [
    "### 3. データの下処理"
   ]
  },
  {
   "cell_type": "code",
   "execution_count": null,
   "metadata": {
    "vscode": {
     "languageId": "r"
    }
   },
   "outputs": [],
   "source": [
    "# category_to_analyze <- c(\"Gender\", \"DrivAge\")\n",
    "# category_to_analyze <- c(\"VehGroup\", \"VehYear\")\n",
    "category_to_analyze <- c(\"VehModel\", \"Area\")\n",
    "\n",
    "# 型だけに注目するよりもセル自体に注目した方が良いと思った\n",
    "\n",
    "premium_total <- get_total(brvehins, category_to_analyze, \"PremTotal\", 0)\n",
    "exposure_total <- get_total(brvehins, category_to_analyze, \"ExposTotal\", 100)\n",
    "claim_total <- get_total(brvehins, category_to_analyze, \"ClaimTotal\")\n",
    "\n",
    "# write.csv(exposure_total, \"exposure_total.csv\")\n",
    "# write.csv(claim_total, \"claim_total.csv\")\n",
    "\n",
    "# 純率にするか損害率にするかは要相談\n",
    "# pure_premium <- premium_total / exposure_total\n",
    "pure_premium <- claim_total / exposure_total\n",
    "loss_ratio <- claim_total / premium_total\n",
    "\n",
    "# write.csv(pure_premium, \"pure_premium.csv\")\n",
    "# write.csv(loss_ratio, \"loss_ratio.csv\")\n"
   ]
  },
  {
   "cell_type": "markdown",
   "metadata": {},
   "source": [
    "### 4. ハイパーパラメータの最適化"
   ]
  },
  {
   "cell_type": "code",
   "execution_count": null,
   "metadata": {
    "vscode": {
     "languageId": "r"
    }
   },
   "outputs": [],
   "source": [
    "options(warn = -1)\n",
    "best_params <- optimize_params(\n",
    "  X = pure_premium, n_folds = 4, k_values = c(2, 5, 10, 15, 20), lambda_values = c(0.01, 0.1, 1, 10)\n",
    ")\n",
    "print(best_params)"
   ]
  },
  {
   "cell_type": "markdown",
   "metadata": {},
   "source": [
    "### 5. 予測精度の検証"
   ]
  },
  {
   "cell_type": "code",
   "execution_count": null,
   "metadata": {
    "vscode": {
     "languageId": "r"
    }
   },
   "outputs": [],
   "source": [
    "split <- train_test_split(pure_premium)\n",
    "\n",
    "# # export split$X_train to csv\n",
    "# write.csv(split$X_train, \"data/split$X_train.csv\")\n",
    "# # export split$X_test to csv\n",
    "# write.csv(split$X_test, \"data/split$X_test.csv\")\n",
    "\n",
    "# cmf_args <- list(X = split$X_train, k = best_params$k, lambda = best_params$lambda, niter = 30, nonneg = TRUE, verbose = FALSE)\n",
    "# cmf_args <- list(X = split$X_train, k = best_params$k, lambda = best_params$lambda, niter = 30, nonneg = FALSE, verbose = FALSE)\n",
    "cmf_args <- list(X = split$X_train, k = best_params$k, lambda = best_params$lambda, niter = 30, nonneg = TRUE, verbose = FALSE, center = FALSE)\n",
    "\n",
    "\n",
    "model <- do.call(CMF, cmf_args)\n",
    "\n",
    "pred <- get_prediction(model, split$X_test)\n",
    "calc_rmse(pred, split$X_test)\n"
   ]
  },
  {
   "cell_type": "markdown",
   "metadata": {},
   "source": [
    "### 6. 予測結果の可視化"
   ]
  },
  {
   "cell_type": "code",
   "execution_count": null,
   "metadata": {
    "vscode": {
     "languageId": "r"
    }
   },
   "outputs": [],
   "source": [
    "# テストデータにおける予測値と実測値の散布図\n",
    "\n",
    "df <- data.frame(as.vector(split$X_test), as.vector(pred))\n",
    "df <- na.omit(df)\n",
    "colnames(df) <- c(\"actual\", \"prediction\")\n",
    "p <- ggplot(df, aes(x = actual, y = prediction)) +\n",
    "    geom_point() +\n",
    "    geom_abline(intercept = 0, slope = 1, color = \"red\") +\n",
    "    xlim(0, 2500) +\n",
    "    ylim(0, 2500) +\n",
    "    labs(title = \"Scatter plot of predicted vs. true values\", x = \"True values\", y = \"Predicted values\")\n",
    "p\n"
   ]
  },
  {
   "cell_type": "code",
   "execution_count": null,
   "metadata": {
    "vscode": {
     "languageId": "r"
    }
   },
   "outputs": [],
   "source": []
  },
  {
   "cell_type": "code",
   "execution_count": null,
   "metadata": {
    "vscode": {
     "languageId": "r"
    }
   },
   "outputs": [],
   "source": [
    "options(repr.plot.width = 25, repr.plot.height = 20)\n",
    "\n",
    "# 全区分に対するヒートマップ（実績）\n",
    "p1 <- visualize_heatmap(pure_premium)\n",
    "\n",
    "# 全区分に対するヒートマップ（欠測を含む推定値）\n",
    "actual <- pure_premium\n",
    "actual[is.na(actual)] <- 0\n",
    "estimated <- get_prediction(model, actual)\n",
    "p2 <- visualize_heatmap(estimated)\n",
    "\n",
    "grid.arrange(p1, p2, ncol = 2)\n"
   ]
  },
  {
   "cell_type": "code",
   "execution_count": null,
   "metadata": {
    "vscode": {
     "languageId": "r"
    }
   },
   "outputs": [],
   "source": []
  }
 ],
 "metadata": {
  "kernelspec": {
   "display_name": "R",
   "language": "R",
   "name": "ir"
  },
  "language_info": {
   "codemirror_mode": "r",
   "file_extension": ".r",
   "mimetype": "text/x-r-source",
   "name": "R",
   "pygments_lexer": "r",
   "version": "4.2.3"
  }
 },
 "nbformat": 4,
 "nbformat_minor": 0
}
